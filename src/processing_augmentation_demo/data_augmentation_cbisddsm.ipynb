{
  "nbformat": 4,
  "nbformat_minor": 0,
  "metadata": {
    "colab": {
      "name": "data_augmentation_cbisddsm.ipynb",
      "provenance": [],
      "mount_file_id": "1gDR7urYHuLwzUPnNNNZiF_8dskHKzDvZ",
      "authorship_tag": "ABX9TyPGuWTbuoOjQVmLLpb/GqGU",
      "include_colab_link": true
    },
    "kernelspec": {
      "name": "python3",
      "display_name": "Python 3"
    }
  },
  "cells": [
    {
      "cell_type": "markdown",
      "metadata": {
        "id": "view-in-github",
        "colab_type": "text"
      },
      "source": [
        "<a href=\"https://colab.research.google.com/github/aryamtos/computer-vision/blob/master/data_augmentation_cbisddsm.ipynb\" target=\"_parent\"><img src=\"https://colab.research.google.com/assets/colab-badge.svg\" alt=\"Open In Colab\"/></a>"
      ]
    },
    {
      "cell_type": "markdown",
      "metadata": {
        "id": "V2k9j5Q-PG3w"
      },
      "source": [
        "Data Augmentation - **CBIS** **DDSM**"
      ]
    },
    {
      "cell_type": "markdown",
      "metadata": {
        "id": "zsJdEsEFPX8n"
      },
      "source": [
        "\r\n",
        "\r\n",
        "1.   Instance of the ImageDataGenerator class\r\n",
        "2.   Pass the augmentation parameters through the constructor\r\n",
        "3.   Load image\r\n",
        "4.   Using flow method to augment the image\r\n",
        "5.   Reshape image first, because the input data to data  flow  must be Numpy array of rank 4 (error)\r\n",
        "\r\n"
      ]
    },
    {
      "cell_type": "code",
      "metadata": {
        "id": "siClXRDohVI_"
      },
      "source": [
        "from keras.preprocessing.image import ImageDataGenerator\r\n",
        "from skimage import io"
      ],
      "execution_count": 1,
      "outputs": []
    },
    {
      "cell_type": "markdown",
      "metadata": {
        "id": "5TLcBeb5Q9bT"
      },
      "source": [
        "Data Augmentation: Single Image"
      ]
    },
    {
      "cell_type": "code",
      "metadata": {
        "id": "7wGEupHriLRt"
      },
      "source": [
        "datagen = ImageDataGenerator(\r\n",
        "\trotation_range=45,\r\n",
        "\twidth_shift_range=0.2,\r\n",
        "\theight_shift_range=0.2,\r\n",
        "\tshear_range=0.2,\r\n",
        "\tzoom_range=0.2,\r\n",
        "\thorizontal_flip=True,\r\n",
        "\tfill_mode='constant') #also try nearest,constant"
      ],
      "execution_count": 2,
      "outputs": []
    },
    {
      "cell_type": "code",
      "metadata": {
        "id": "cdLpx-XWLiks"
      },
      "source": [
        "x = io.imread('/content/drive/MyDrive/Benigno/Benign box/P_00004LEFTCC.png')"
      ],
      "execution_count": 3,
      "outputs": []
    },
    {
      "cell_type": "code",
      "metadata": {
        "id": "7MWx4qKPLsux"
      },
      "source": [
        "x = x.reshape((1,) + x.shape)"
      ],
      "execution_count": 4,
      "outputs": []
    },
    {
      "cell_type": "code",
      "metadata": {
        "id": "G255S8GOcQP9"
      },
      "source": [
        "i = 0\r\n",
        "for batch in datagen.flow(x, batch_size=16,  \r\n",
        "                          save_to_dir='/content/drive/MyDrive/Augmented/', \r\n",
        "                          save_prefix='aug', \r\n",
        "                          save_format='png'):\r\n",
        "    i += 1\r\n",
        "    if i > 20:\r\n",
        "        break"
      ],
      "execution_count": null,
      "outputs": []
    },
    {
      "cell_type": "code",
      "metadata": {
        "id": "e7N-t1EaC5JI"
      },
      "source": [
        "import numpy as np\r\n",
        "from keras.preprocessing.image import load_img\r\n",
        "from keras.preprocessing.image import img_to_array\r\n",
        "from keras.preprocessing.image import ImageDataGenerator"
      ],
      "execution_count": 6,
      "outputs": []
    },
    {
      "cell_type": "code",
      "metadata": {
        "id": "fSbxsr54DNmt"
      },
      "source": [
        "IMAGE_PATH = \"/content/drive/MyDrive/Benigno/Benign box/P_00021LEFTMLO.png\"\r\n",
        "OUTPUT_PATH = \"/content/drive/MyDrive/Augmented2/\"\r\n",
        "\r\n",
        "image = load_img(IMAGE_PATH)\r\n",
        "image = img_to_array(image)"
      ],
      "execution_count": 18,
      "outputs": []
    },
    {
      "cell_type": "code",
      "metadata": {
        "id": "EXoYjx-9DrkI"
      },
      "source": [
        "image = np.expand_dims(image, axis=0)\r\n",
        "imgAug = ImageDataGenerator(rotation_range=45,\r\n",
        "\twidth_shift_range=0.2,\r\n",
        "\theight_shift_range=0.2,\r\n",
        "\tshear_range=0.2,\r\n",
        "\tzoom_range=0.2,\r\n",
        "\thorizontal_flip=True)\r\n",
        "\r\n"
      ],
      "execution_count": 15,
      "outputs": []
    },
    {
      "cell_type": "code",
      "metadata": {
        "id": "5uzvUdMdEPDH"
      },
      "source": [
        "imgGen = imgAug.flow(image, save_to_dir=OUTPUT_PATH,\r\n",
        "                     save_format='png', save_prefix='aug')"
      ],
      "execution_count": 16,
      "outputs": []
    },
    {
      "cell_type": "code",
      "metadata": {
        "id": "DM2BL1HlEpAc"
      },
      "source": [
        "counter = 0\r\n",
        "\r\n",
        "for(i, newImage) in enumerate(imgGen):\r\n",
        "    counter += 1\r\n",
        "\r\n",
        "    if counter == 30:\r\n",
        "        break"
      ],
      "execution_count": 17,
      "outputs": []
    },
    {
      "cell_type": "markdown",
      "metadata": {
        "id": "pMCFv8UYcdCJ"
      },
      "source": [
        "Multiple Images"
      ]
    },
    {
      "cell_type": "code",
      "metadata": {
        "colab": {
          "base_uri": "https://localhost:8080/"
        },
        "id": "ahwDM_VpHa51",
        "outputId": "220803c1-edba-4c7f-bb3e-e9564468040c"
      },
      "source": [
        "import numpy as np\r\n",
        "from skimage import io\r\n",
        "import os\r\n",
        "from PIL import Image\r\n",
        "\r\n",
        "image_directory = '/content/drive/MyDrive/Benigno/Benign box/'\r\n",
        "SIZE = 224\r\n",
        "dataset = []\r\n",
        "\r\n",
        "my_images = os.listdir(image_directory)\r\n",
        "for i, image_name in enumerate(my_images):\r\n",
        "    if (image_name.split('.')[1] == 'png'):\r\n",
        "        image = io.imread(image_directory + image_name)\r\n",
        "        image = Image.fromarray(image)\r\n",
        "        #image = image.resize((SIZE,SIZE))\r\n",
        "        dataset.append(np.array(image))\r\n",
        "\r\n",
        "x = np.array(dataset)"
      ],
      "execution_count": 23,
      "outputs": [
        {
          "output_type": "stream",
          "text": [
            "/usr/local/lib/python3.6/dist-packages/ipykernel_launcher.py:18: VisibleDeprecationWarning: Creating an ndarray from ragged nested sequences (which is a list-or-tuple of lists-or-tuples-or ndarrays with different lengths or shapes) is deprecated. If you meant to do this, you must specify 'dtype=object' when creating the ndarray\n"
          ],
          "name": "stderr"
        }
      ]
    },
    {
      "cell_type": "code",
      "metadata": {
        "colab": {
          "base_uri": "https://localhost:8080/"
        },
        "id": "hMfVHLkcIJ0V",
        "outputId": "81f35f46-8c66-4a7f-bc30-d2f1effc58ed"
      },
      "source": [
        "i = 0\r\n",
        "for batch in datagen.flow_from_directory(directory='/content/drive/MyDrive/Benigno/', \r\n",
        "                                         batch_size=16,  \r\n",
        "                                         target_size=(224, 224),\r\n",
        "                                         color_mode=\"rgb\",\r\n",
        "                                         save_to_dir='/content/drive/MyDrive/Augmented/', \r\n",
        "                                         save_prefix='aug', \r\n",
        "                                         save_format='png'):\r\n",
        "    i += 1\r\n",
        "    if i > 596:\r\n",
        "        break "
      ],
      "execution_count": 3,
      "outputs": [
        {
          "output_type": "stream",
          "text": [
            "Found 596 images belonging to 1 classes.\n"
          ],
          "name": "stdout"
        }
      ]
    }
  ]
}