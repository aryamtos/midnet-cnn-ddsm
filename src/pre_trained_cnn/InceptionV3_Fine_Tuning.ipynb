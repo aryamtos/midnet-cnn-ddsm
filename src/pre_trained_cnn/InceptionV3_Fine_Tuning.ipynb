{
  "cells": [
    {
      "cell_type": "markdown",
      "metadata": {
        "colab_type": "text",
        "id": "view-in-github"
      },
      "source": [
        "<a href=\"https://colab.research.google.com/github/aryamtos/augmentation-processing-ddsm/blob/master/InceptionV3_Fine_Tuning.ipynb\" target=\"_parent\"><img src=\"https://colab.research.google.com/assets/colab-badge.svg\" alt=\"Open In Colab\"/></a>"
      ]
    },
    {
      "cell_type": "code",
      "execution_count": null,
      "metadata": {
        "id": "e_dwqS8XEM6m",
        "vscode": {
          "languageId": "python"
        }
      },
      "outputs": [],
      "source": [
        "from PIL import Image\n",
        "from os import listdir \n",
        "from os.path import isdir \n",
        "import numpy as np\n",
        "from sklearn.model_selection import train_test_split\n",
        "from sklearn.preprocessing import LabelBinarizer\n",
        "import os\n",
        "from tensorflow.keras import layers\n",
        "from tensorflow.keras import Model\n",
        "from tensorflow.keras.utils import to_categorical \n",
        "from tensorflow.keras import layers \n",
        "from tensorflow.keras import models \n",
        "from tensorflow.keras import optimizers \n",
        "from tensorflow.keras.preprocessing.image import ImageDataGenerator"
      ]
    },
    {
      "cell_type": "code",
      "execution_count": null,
      "metadata": {
        "colab": {
          "background_save": true
        },
        "id": "TGF-wD7nGFSM",
        "vscode": {
          "languageId": "python"
        }
      },
      "outputs": [],
      "source": [
        "def select_image(filename):\n",
        "    \n",
        "    image = Image.open(filename) #abrindo aquivo\n",
        "    \n",
        "    image = image.convert('RGB')\n",
        "    image = image.resize((150,150)) #redimensiona a imagem\n",
        "    \n",
        "    return np.asarray(image)  #converte num numpy array\n",
        "\n",
        "# Carregando duas classes\n",
        "# Essa função vai pegar os diretórios e organizar os labels (etiquetar as imagens)\n",
        "def load_class(diretorio, classe, imagens, labels):\n",
        "    #Iterando arquivos\n",
        "    \n",
        "    for filename in listdir(diretorio):\n",
        "        \n",
        "        path = diretorio + filename #monta o endereço da imagem \n",
        "        \n",
        "        try:\n",
        "            imagens.append(select_image(path))\n",
        "            labels.append(classe)\n",
        "        except:\n",
        "            print('Erro ao ler imagem{}'.format(path))\n",
        "    return imagens, labels\n",
        "\n",
        "# Selecionando Dataset\n",
        "\n",
        "# A função select_data_set() vai selecionar todo o dataset e verificar quais são os subdiretórios com a subdir.\n",
        "\n",
        "def select_data_set(diretorio):\n",
        "    \n",
        "    imagens = list()\n",
        "    labels = list()\n",
        "    \n",
        "    for subdir in listdir(diretorio):\n",
        "        path = diretorio + subdir + '/'\n",
        "        \n",
        "        if not isdir(path):\n",
        "            continue\n",
        "        imagens, labels = load_class(path, subdir, imagens, labels)\n",
        "    \n",
        "    return imagens, labels\n",
        "\n",
        "\n",
        "nodulos_dataset = '/content/drive/MyDrive/train/'\n",
        "\n",
        "imagens,labels = select_data_set(nodulos_dataset)\n",
        "\n",
        "imagens = np.array(imagens)/255 #convertendo de lista para array\n",
        "labels = np.array(labels) # conversão de lista para array\n",
        "\n",
        "# Tratando os labels\n",
        "lb =LabelBinarizer()\n",
        "labels = lb.fit_transform(labels) \n",
        "# Categorizar os dados\n",
        "labels = to_categorical(labels)"
      ]
    },
    {
      "cell_type": "code",
      "execution_count": null,
      "metadata": {
        "id": "nHcvt8tsHOur",
        "vscode": {
          "languageId": "python"
        }
      },
      "outputs": [],
      "source": [
        "batch_size = 50 #processamento a cada 54 imagens\n",
        "input_shape = (150, 150, 3) #tamanho da imagem\n",
        "random_state = 42 # serve para reproduzir a \"experiência\"\n",
        "alpha = 1e-5 # taxa de aprendizado\n",
        "epoch = 100"
      ]
    },
    {
      "cell_type": "code",
      "execution_count": null,
      "metadata": {
        "id": "3dI0-DF8HV9B",
        "vscode": {
          "languageId": "python"
        }
      },
      "outputs": [],
      "source": [
        "from keras.callbacks import ModelCheckpoint, LearningRateScheduler, EarlyStopping, ReduceLROnPlateau, TensorBoard"
      ]
    },
    {
      "cell_type": "code",
      "execution_count": null,
      "metadata": {
        "id": "1ZGN3hOtHfpr",
        "vscode": {
          "languageId": "python"
        }
      },
      "outputs": [],
      "source": [
        "\n",
        "NAME = \"inception20_v3\"\n",
        "alpha = 1e-5\n",
        "tensorboard = TensorBoard(log_dir = \"/content/drive/My Drive/{}\".format(NAME))\n",
        "\n",
        "file_path=\"/content/drive/My Drive/inceptionT20_v3.best.hdf5\"\n",
        "\n",
        "checkpoint = ModelCheckpoint(file_path, monitor='val_acc', verbose=1, save_best_only=True, mode='max')\n",
        "\n",
        "early = EarlyStopping(monitor=\"val_acc\", mode=\"max\", patience=15)\n",
        "\n",
        "lr_reduce = ReduceLROnPlateau(monitor='acc', factor=0.1, min_delta=alpha, patience= 5, verbose= 1)\n",
        "\n",
        "callbacks_list = [checkpoint, lr_reduce,tensorboard]"
      ]
    },
    {
      "cell_type": "code",
      "execution_count": null,
      "metadata": {
        "id": "H1kst_WtHoN7",
        "vscode": {
          "languageId": "python"
        }
      },
      "outputs": [],
      "source": [
        "(trainX, testX, trainY, testY) = train_test_split(imagens, labels, test_size = 0.2, stratify = labels, random_state=random_state)\n"
      ]
    },
    {
      "cell_type": "code",
      "execution_count": null,
      "metadata": {
        "id": "TE05S-a0HvoX",
        "vscode": {
          "languageId": "python"
        }
      },
      "outputs": [],
      "source": [
        "train_datagen = ImageDataGenerator(rotation_range=10, zoom_range=0.1, width_shift_range=0.2, height_shift_range=0.2, shear_range=0.15, horizontal_flip=True)\n",
        "\n",
        "train_datagen.fit(trainX)\n",
        "\n",
        "data_aug = train_datagen.flow(trainX, trainY, batch_size= batch_size)"
      ]
    },
    {
      "cell_type": "code",
      "execution_count": null,
      "metadata": {
        "id": "00MFAOzAvv5N",
        "vscode": {
          "languageId": "python"
        }
      },
      "outputs": [],
      "source": []
    },
    {
      "cell_type": "code",
      "execution_count": null,
      "metadata": {
        "colab": {
          "base_uri": "https://localhost:8080/"
        },
        "id": "CLtEVE_nH5Rm",
        "outputId": "f7b13fec-2e68-4c89-eb47-b943833fe51d",
        "vscode": {
          "languageId": "python"
        }
      },
      "outputs": [
        {
          "name": "stdout",
          "output_type": "stream",
          "text": [
            "--2020-12-22 03:04:28--  https://storage.googleapis.com/mledu-datasets/inception_v3_weights_tf_dim_ordering_tf_kernels_notop.h5\n",
            "Resolving storage.googleapis.com (storage.googleapis.com)... 74.125.142.128, 74.125.20.128, 74.125.195.128, ...\n",
            "Connecting to storage.googleapis.com (storage.googleapis.com)|74.125.142.128|:443... connected.\n",
            "HTTP request sent, awaiting response... 200 OK\n",
            "Length: 87910968 (84M) [application/x-hdf]\n",
            "Saving to: ‘/tmp/inception_v3_weights_tf_dim_ordering_tf_kernels_notop.h5’\n",
            "\n",
            "/tmp/inception_v3_w 100%[===================>]  83.84M   161MB/s    in 0.5s    \n",
            "\n",
            "2020-12-22 03:04:29 (161 MB/s) - ‘/tmp/inception_v3_weights_tf_dim_ordering_tf_kernels_notop.h5’ saved [87910968/87910968]\n",
            "\n"
          ]
        }
      ],
      "source": [
        "!wget --no-check-certificate \\\n",
        "    https://storage.googleapis.com/mledu-datasets/inception_v3_weights_tf_dim_ordering_tf_kernels_notop.h5 \\\n",
        "    -O /tmp/inception_v3_weights_tf_dim_ordering_tf_kernels_notop.h5"
      ]
    },
    {
      "cell_type": "code",
      "execution_count": null,
      "metadata": {
        "id": "3qoUI9LfIGSl",
        "vscode": {
          "languageId": "python"
        }
      },
      "outputs": [],
      "source": [
        "from tensorflow.keras.applications.inception_v3 import InceptionV3\n",
        "\n",
        "local_weights_file = '/tmp/inception_v3_weights_tf_dim_ordering_tf_kernels_notop.h5'\n",
        "#local_weights_file = 'imagenet'\n",
        "pre_trained_model = InceptionV3(\n",
        "    input_shape=(150,150, 3), include_top=False, weights=None)\n",
        "pre_trained_model.load_weights(local_weights_file)"
      ]
    },
    {
      "cell_type": "code",
      "execution_count": null,
      "metadata": {
        "id": "ip5e9kgJKLfC",
        "vscode": {
          "languageId": "python"
        }
      },
      "outputs": [],
      "source": [
        "for layer in pre_trained_model.layers:\n",
        "  layer.trainable = False"
      ]
    },
    {
      "cell_type": "code",
      "execution_count": null,
      "metadata": {
        "colab": {
          "base_uri": "https://localhost:8080/"
        },
        "id": "XIggcPV8KNwQ",
        "outputId": "0918c19b-a00a-40af-bb56-61c72cbebdec",
        "vscode": {
          "languageId": "python"
        }
      },
      "outputs": [
        {
          "name": "stdout",
          "output_type": "stream",
          "text": [
            "last layer output shape: (None, 7, 7, 768)\n"
          ]
        }
      ],
      "source": [
        "last_layer = pre_trained_model.get_layer('mixed7')\n",
        "print('last layer output shape:', last_layer.output_shape)\n",
        "last_output = last_layer.output"
      ]
    },
    {
      "cell_type": "code",
      "execution_count": null,
      "metadata": {
        "id": "dFot3w1j1WWo",
        "vscode": {
          "languageId": "python"
        }
      },
      "outputs": [],
      "source": [
        "\n",
        "from tensorflow.keras import layers\n",
        "from tensorflow.keras import Model\n",
        "import tensorflow.keras as keras\n",
        "from tensorflow.keras.models import Model, Sequential\n",
        "from tensorflow.keras.layers import Input, UpSampling2D, Flatten, BatchNormalization, Dense, Dropout, GlobalAveragePooling2D\n",
        "from tensorflow.keras import optimizers\n"
      ]
    },
    {
      "cell_type": "code",
      "execution_count": null,
      "metadata": {
        "id": "NqvXncia12CD",
        "vscode": {
          "languageId": "python"
        }
      },
      "outputs": [],
      "source": [
        "model = Sequential()\n",
        "model.add(pre_trained_model)\n",
        "model.add(GlobalAveragePooling2D())\n",
        "model.add(BatchNormalization())\n",
        "model.add(Dense(64, activation='relu'))\n",
        "model.add(GlobalAveragePooling2D())\n",
        "model.add(BatchNormalization())\n",
        "model.add(Dropout(0.2))\n",
        "model.add(Dense(128, activation='relu'))\n",
        "model.add(Dense(256, activation='relu'))\n",
        "model.add(BatchNormalization())\n",
        "model.add(GlobalAveragePooling2D())\n",
        "model.add(Dropout(0.4))\n",
        "model.add(Dense(512, activation='relu'))\n",
        "model.add(BatchNormalization())\n",
        "model.add(GlobalAveragePooling2D())\n",
        "model.add(Dropout(0.4))\n",
        "model.add(Dense(2, activation='softmax'))\n",
        "model.compile(loss='binary_crossentropy',optimizer='adam',metrics=['acc'])"
      ]
    },
    {
      "cell_type": "code",
      "execution_count": null,
      "metadata": {
        "id": "49NmEe-0KSYc",
        "vscode": {
          "languageId": "python"
        }
      },
      "outputs": [],
      "source": [
        "from tensorflow.keras.optimizers import RMSprop\n",
        "\n",
        "# Flatten the output layer to 1 dimension\n",
        "#x = layers.Flatten()(last_output)\n",
        "# Add a fully connected layer with 1,024 hidden units and ReLU activation\n",
        "\n",
        "# Flatten the output layer to 1 dimension\n",
        "x = layers.Flatten()(last_output)\n",
        "# Add a fully connected layer with 1,024 hidden units and ReLU activation\n",
        "\n",
        "# Add a dropout rate of 0.2\n",
        "\n",
        "\n",
        "\n",
        "# Add a final sigmoid layer for classification\n",
        "x = layers.Dense(1024, activation='relu')(x)\n",
        "x = layers.Dropout(0.4)(x)\n",
        "x = layers.Dense(2, activation='softmax')(x)\n",
        "# Configure and compile the model\n",
        "\n",
        "# optimizer=RMSprop(lr=0.0001)\n",
        "\n",
        "model = Model(pre_trained_model.input, x)\n",
        "model.compile(loss='binary_crossentropy',\n",
        "              optimizer='adam',\n",
        "              metrics=['acc'])"
      ]
    },
    {
      "cell_type": "code",
      "execution_count": null,
      "metadata": {
        "colab": {
          "base_uri": "https://localhost:8080/"
        },
        "id": "30AzP-trH_Q5",
        "outputId": "8718c6e1-0bd6-4aa0-b96d-ca8fd0acedcc",
        "vscode": {
          "languageId": "python"
        }
      },
      "outputs": [
        {
          "name": "stderr",
          "output_type": "stream",
          "text": [
            "/usr/local/lib/python3.6/dist-packages/tensorflow/python/keras/engine/training.py:1844: UserWarning: `Model.fit_generator` is deprecated and will be removed in a future version. Please use `Model.fit`, which supports generators.\n",
            "  warnings.warn('`Model.fit_generator` is deprecated and '\n"
          ]
        },
        {
          "name": "stdout",
          "output_type": "stream",
          "text": [
            "Epoch 1/100\n",
            "39/39 - 15s - loss: 0.6503 - acc: 0.6120 - val_loss: 0.5906 - val_acc: 0.7245\n",
            "\n",
            "Epoch 00001: val_acc improved from -inf to 0.72449, saving model to /content/drive/My Drive/inceptionT20_v3.best.hdf5\n",
            "Epoch 2/100\n",
            "39/39 - 10s - loss: 0.5666 - acc: 0.7063 - val_loss: 0.5407 - val_acc: 0.7816\n",
            "\n",
            "Epoch 00002: val_acc improved from 0.72449 to 0.78163, saving model to /content/drive/My Drive/inceptionT20_v3.best.hdf5\n",
            "Epoch 3/100\n",
            "39/39 - 10s - loss: 0.5379 - acc: 0.7263 - val_loss: 0.5030 - val_acc: 0.8000\n",
            "\n",
            "Epoch 00003: val_acc improved from 0.78163 to 0.80000, saving model to /content/drive/My Drive/inceptionT20_v3.best.hdf5\n",
            "Epoch 4/100\n",
            "39/39 - 10s - loss: 0.5168 - acc: 0.7472 - val_loss: 0.5081 - val_acc: 0.7816\n",
            "\n",
            "Epoch 00004: val_acc did not improve from 0.80000\n",
            "Epoch 5/100\n",
            "39/39 - 10s - loss: 0.5102 - acc: 0.7389 - val_loss: 0.5120 - val_acc: 0.7327\n",
            "\n",
            "Epoch 00005: val_acc did not improve from 0.80000\n",
            "Epoch 6/100\n",
            "39/39 - 10s - loss: 0.5298 - acc: 0.7347 - val_loss: 0.4882 - val_acc: 0.7653\n",
            "\n",
            "Epoch 00006: val_acc did not improve from 0.80000\n",
            "Epoch 7/100\n",
            "39/39 - 10s - loss: 0.4993 - acc: 0.7619 - val_loss: 0.4625 - val_acc: 0.7980\n",
            "\n",
            "Epoch 00007: val_acc did not improve from 0.80000\n",
            "Epoch 8/100\n",
            "39/39 - 10s - loss: 0.4910 - acc: 0.7546 - val_loss: 0.4646 - val_acc: 0.7816\n",
            "\n",
            "Epoch 00008: val_acc did not improve from 0.80000\n",
            "Epoch 9/100\n",
            "39/39 - 10s - loss: 0.4827 - acc: 0.7609 - val_loss: 0.4657 - val_acc: 0.7918\n",
            "\n",
            "Epoch 00009: val_acc did not improve from 0.80000\n",
            "Epoch 10/100\n",
            "39/39 - 10s - loss: 0.4841 - acc: 0.7567 - val_loss: 0.4492 - val_acc: 0.7837\n",
            "\n",
            "Epoch 00010: val_acc did not improve from 0.80000\n",
            "Epoch 11/100\n",
            "39/39 - 10s - loss: 0.5004 - acc: 0.7513 - val_loss: 0.4390 - val_acc: 0.8020\n",
            "\n",
            "Epoch 00011: val_acc improved from 0.80000 to 0.80204, saving model to /content/drive/My Drive/inceptionT20_v3.best.hdf5\n",
            "Epoch 12/100\n",
            "39/39 - 10s - loss: 0.4936 - acc: 0.7593 - val_loss: 0.4313 - val_acc: 0.8061\n",
            "\n",
            "Epoch 00012: val_acc improved from 0.80204 to 0.80612, saving model to /content/drive/My Drive/inceptionT20_v3.best.hdf5\n",
            "\n",
            "Epoch 00012: ReduceLROnPlateau reducing learning rate to 0.00010000000474974513.\n",
            "Epoch 13/100\n"
          ]
        }
      ],
      "source": [
        "history = model.fit_generator(data_aug, steps_per_epoch=len(trainX)//batch_size, validation_data=(testX, testY),\n",
        "                              validation_steps= len(testX)//batch_size,callbacks=callbacks_list, epochs = 100,\n",
        "                              verbose=2)\n"
      ]
    },
    {
      "cell_type": "code",
      "execution_count": null,
      "metadata": {
        "id": "xWig6uBqRezp",
        "vscode": {
          "languageId": "python"
        }
      },
      "outputs": [],
      "source": [
        "from tensorflow.keras.optimizers import SGD\n",
        "\n",
        "unfreeze = False\n",
        "\n",
        "# Unfreeze all models after \"mixed6\"\n",
        "for layer in pre_trained_model.layers:\n",
        "  if unfreeze:\n",
        "    layer.trainable = True\n",
        "  if layer.name == 'mixed6':\n",
        "    unfreeze = True\n",
        "\n",
        "# As an optimizer, here we will use SGD \n",
        "# with a very low learning rate (0.00001)\n",
        "model.compile(loss='binary_crossentropy',\n",
        "              optimizer=SGD(\n",
        "                  lr=0.00001, \n",
        "                  momentum=0.9),\n",
        "              metrics=['acc'])"
      ]
    },
    {
      "cell_type": "code",
      "execution_count": null,
      "metadata": {
        "colab": {
          "base_uri": "https://localhost:8080/"
        },
        "id": "Y_d2OKdRRmIo",
        "outputId": "0e6dad4c-ee3f-4870-a5fd-bced87b9b054",
        "vscode": {
          "languageId": "python"
        }
      },
      "outputs": [
        {
          "name": "stderr",
          "output_type": "stream",
          "text": [
            "/usr/local/lib/python3.6/dist-packages/tensorflow/python/keras/engine/training.py:1844: UserWarning: `Model.fit_generator` is deprecated and will be removed in a future version. Please use `Model.fit`, which supports generators.\n",
            "  warnings.warn('`Model.fit_generator` is deprecated and '\n"
          ]
        },
        {
          "name": "stdout",
          "output_type": "stream",
          "text": [
            "Epoch 1/50\n",
            "WARNING:tensorflow:Your input ran out of data; interrupting training. Make sure that your dataset or generator can generate at least `steps_per_epoch * epochs` batches (in this case, 5000 batches). You may need to use the repeat() function when building your dataset.\n",
            "WARNING:tensorflow:Your input ran out of data; interrupting training. Make sure that your dataset or generator can generate at least `steps_per_epoch * epochs` batches (in this case, 50 batches). You may need to use the repeat() function when building your dataset.\n",
            "100/100 - 15s - loss: 0.4405 - acc: 0.7706 - val_loss: 0.3785 - val_acc: 0.8429\n",
            "\n",
            "Epoch 00001: val_acc did not improve from 0.85306\n"
          ]
        }
      ],
      "source": [
        "history = model.fit_generator(data_aug, steps_per_epoch=100, validation_data=(testX, testY),\n",
        "                              validation_steps= 50,callbacks=callbacks_list, epochs = 50,\n",
        "                              verbose=2)\n",
        "\n"
      ]
    },
    {
      "cell_type": "code",
      "execution_count": null,
      "metadata": {
        "id": "kFEGGzHZSbfJ",
        "vscode": {
          "languageId": "python"
        }
      },
      "outputs": [],
      "source": [
        "model.save('/content/drive/MyDrive/inception18_v3.h5')"
      ]
    }
  ],
  "metadata": {
    "accelerator": "GPU",
    "colab": {
      "authorship_tag": "ABX9TyP/ZMv+XOhih7EB77IKCtGg",
      "collapsed_sections": [],
      "include_colab_link": true,
      "mount_file_id": "1Eghfgdl_iwWYF18HL7wOSCU-yIe_otPK",
      "name": "InceptionV3-Fine Tuning.ipynb",
      "provenance": []
    },
    "kernelspec": {
      "display_name": "Python 3",
      "name": "python3"
    }
  },
  "nbformat": 4,
  "nbformat_minor": 0
}
